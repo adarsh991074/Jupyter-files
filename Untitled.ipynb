{
 "cells": [
  {
   "cell_type": "code",
   "execution_count": 1,
   "id": "e99b4e24",
   "metadata": {},
   "outputs": [],
   "source": [
    "import numpy as np"
   ]
  },
  {
   "cell_type": "code",
   "execution_count": 2,
   "id": "ccfddf5a",
   "metadata": {},
   "outputs": [],
   "source": [
    "import pandas as pd"
   ]
  },
  {
   "cell_type": "code",
   "execution_count": 3,
   "id": "456f5f67",
   "metadata": {},
   "outputs": [],
   "source": [
    "import matplotlib.pyplot as plt"
   ]
  },
  {
   "cell_type": "code",
   "execution_count": 4,
   "id": "1f7d0c98",
   "metadata": {},
   "outputs": [
    {
     "data": {
      "text/plain": [
       "array([1., 1., 1., 1., 1., 1., 1., 1., 1.])"
      ]
     },
     "execution_count": 4,
     "metadata": {},
     "output_type": "execute_result"
    }
   ],
   "source": [
    "np.ones(9)"
   ]
  },
  {
   "cell_type": "code",
   "execution_count": 7,
   "id": "e017443d",
   "metadata": {},
   "outputs": [
    {
     "data": {
      "text/plain": [
       "array([[1., 1.],\n",
       "       [1., 1.],\n",
       "       [1., 1.],\n",
       "       [1., 1.]])"
      ]
     },
     "execution_count": 7,
     "metadata": {},
     "output_type": "execute_result"
    }
   ],
   "source": [
    "np.ones((4,2) )"
   ]
  },
  {
   "cell_type": "code",
   "execution_count": 9,
   "id": "bf93dde4",
   "metadata": {},
   "outputs": [
    {
     "data": {
      "text/plain": [
       "array([[[0., 0., 0., 0., 0., 0.],\n",
       "        [0., 0., 0., 0., 0., 0.],\n",
       "        [0., 0., 0., 0., 0., 0.],\n",
       "        [0., 0., 0., 0., 0., 0.]],\n",
       "\n",
       "       [[0., 0., 0., 0., 0., 0.],\n",
       "        [0., 0., 0., 0., 0., 0.],\n",
       "        [0., 0., 0., 0., 0., 0.],\n",
       "        [0., 0., 0., 0., 0., 0.]],\n",
       "\n",
       "       [[0., 0., 0., 0., 0., 0.],\n",
       "        [0., 0., 0., 0., 0., 0.],\n",
       "        [0., 0., 0., 0., 0., 0.],\n",
       "        [0., 0., 0., 0., 0., 0.]]])"
      ]
     },
     "execution_count": 9,
     "metadata": {},
     "output_type": "execute_result"
    }
   ],
   "source": [
    "np.zeros((3,4,6))"
   ]
  },
  {
   "cell_type": "code",
   "execution_count": 10,
   "id": "d5405cdc",
   "metadata": {},
   "outputs": [
    {
     "data": {
      "text/plain": [
       "array([0, 1, 2, 3, 4, 5, 6, 7])"
      ]
     },
     "execution_count": 10,
     "metadata": {},
     "output_type": "execute_result"
    }
   ],
   "source": [
    "np.arange(8)"
   ]
  },
  {
   "cell_type": "code",
   "execution_count": 12,
   "id": "506d397b",
   "metadata": {},
   "outputs": [
    {
     "data": {
      "text/plain": [
       "array([4, 5, 6, 7, 8, 9])"
      ]
     },
     "execution_count": 12,
     "metadata": {},
     "output_type": "execute_result"
    }
   ],
   "source": [
    "np.arange(4,10,1)"
   ]
  },
  {
   "cell_type": "code",
   "execution_count": 15,
   "id": "bcd7fad9",
   "metadata": {},
   "outputs": [
    {
     "data": {
      "text/plain": [
       "array([4, 6, 8])"
      ]
     },
     "execution_count": 15,
     "metadata": {},
     "output_type": "execute_result"
    }
   ],
   "source": [
    "np.arange(4,10,2)"
   ]
  },
  {
   "cell_type": "code",
   "execution_count": 16,
   "id": "707cedef",
   "metadata": {},
   "outputs": [
    {
     "data": {
      "text/plain": [
       "array([], dtype=int32)"
      ]
     },
     "execution_count": 16,
     "metadata": {},
     "output_type": "execute_result"
    }
   ],
   "source": [
    "np.arange(18,5)"
   ]
  },
  {
   "cell_type": "code",
   "execution_count": 17,
   "id": "ce64c278",
   "metadata": {},
   "outputs": [
    {
     "data": {
      "text/plain": [
       "array([18, 17, 16, 15, 14, 13, 12, 11, 10,  9,  8,  7,  6])"
      ]
     },
     "execution_count": 17,
     "metadata": {},
     "output_type": "execute_result"
    }
   ],
   "source": [
    "np.arange(18,5,-1)"
   ]
  },
  {
   "cell_type": "code",
   "execution_count": 18,
   "id": "a4bbfd0e",
   "metadata": {},
   "outputs": [
    {
     "data": {
      "text/plain": [
       "13"
      ]
     },
     "execution_count": 18,
     "metadata": {},
     "output_type": "execute_result"
    }
   ],
   "source": [
    "np.random.randint(3,50)"
   ]
  },
  {
   "cell_type": "code",
   "execution_count": 19,
   "id": "83d5db6e",
   "metadata": {},
   "outputs": [
    {
     "data": {
      "text/plain": [
       "array([47, 42, 38,  5, 12, 29, 33, 49, 20, 19])"
      ]
     },
     "execution_count": 19,
     "metadata": {},
     "output_type": "execute_result"
    }
   ],
   "source": [
    "np.random.randint(3,50,10)"
   ]
  },
  {
   "cell_type": "code",
   "execution_count": 20,
   "id": "f38e100a",
   "metadata": {},
   "outputs": [
    {
     "data": {
      "text/plain": [
       "array(['alaika', 'adarsh', 'adarsh', 'alaika', 'alaika', 'alaika',\n",
       "       'alaika', 'alaika', 'adarsh', 'adarsh'], dtype='<U6')"
      ]
     },
     "execution_count": 20,
     "metadata": {},
     "output_type": "execute_result"
    }
   ],
   "source": [
    "np.random.choice(['adarsh','alaika'] , 10)"
   ]
  },
  {
   "cell_type": "code",
   "execution_count": 21,
   "id": "72120cb5",
   "metadata": {},
   "outputs": [
    {
     "data": {
      "text/plain": [
       "array(['adarsh', 'adarsh', 'adarsh', 'adarsh', 'adarsh', 'adarsh',\n",
       "       'adarsh', 'adarsh', 'adarsh', 'adarsh'], dtype='<U6')"
      ]
     },
     "execution_count": 21,
     "metadata": {},
     "output_type": "execute_result"
    }
   ],
   "source": [
    "np.random.choice(['adarsh','alaika'] , 10 ,p= [0.8 , 0.2])"
   ]
  },
  {
   "cell_type": "code",
   "execution_count": 23,
   "id": "7b86bc29",
   "metadata": {},
   "outputs": [
    {
     "data": {
      "text/plain": [
       "array(['adarsh', 'adarsh', 'adarsh', 'adarsh', 'adarsh', 'adarsh',\n",
       "       'adarsh', 'alaika', 'adarsh', 'adarsh'], dtype='<U6')"
      ]
     },
     "execution_count": 23,
     "metadata": {},
     "output_type": "execute_result"
    }
   ],
   "source": [
    "np.random.choice(['adarsh','alaika'] , 10 ,p= [0.8 , 0.2])"
   ]
  },
  {
   "cell_type": "code",
   "execution_count": 24,
   "id": "9ad29a63",
   "metadata": {},
   "outputs": [
    {
     "data": {
      "text/plain": [
       "array([200., 200., 200., 200., 200., 200., 200., 200., 200., 200., 200.,\n",
       "       200., 200., 200., 200., 200., 200., 200., 200., 200.])"
      ]
     },
     "execution_count": 24,
     "metadata": {},
     "output_type": "execute_result"
    }
   ],
   "source": [
    "np.random.normal(200,0,20)"
   ]
  },
  {
   "cell_type": "code",
   "execution_count": 25,
   "id": "4b401a63",
   "metadata": {},
   "outputs": [
    {
     "data": {
      "text/plain": [
       "array([199.65762252, 199.8196295 , 199.81909355, 200.12884377,\n",
       "       199.99201389, 200.12611422, 200.04619584, 199.93818925,\n",
       "       200.20792787, 199.56450344, 200.04708675, 199.72880652,\n",
       "       200.52006668, 200.10894071, 199.53670801, 200.16793879,\n",
       "       199.8336337 , 200.22862063, 200.24873164, 200.00372813])"
      ]
     },
     "execution_count": 25,
     "metadata": {},
     "output_type": "execute_result"
    }
   ],
   "source": [
    "np.random.normal(200,0.2,20)"
   ]
  },
  {
   "cell_type": "code",
   "execution_count": 1,
   "id": "85f8cfe2",
   "metadata": {},
   "outputs": [
    {
     "ename": "NameError",
     "evalue": "name 'exp' is not defined",
     "output_type": "error",
     "traceback": [
      "\u001b[1;31m---------------------------------------------------------------------------\u001b[0m",
      "\u001b[1;31mNameError\u001b[0m                                 Traceback (most recent call last)",
      "Cell \u001b[1;32mIn[1], line 1\u001b[0m\n\u001b[1;32m----> 1\u001b[0m \u001b[43mexp\u001b[49m(\u001b[38;5;241m4\u001b[39m)\n",
      "\u001b[1;31mNameError\u001b[0m: name 'exp' is not defined"
     ]
    }
   ],
   "source": []
  },
  {
   "cell_type": "code",
   "execution_count": null,
   "id": "45627843",
   "metadata": {},
   "outputs": [],
   "source": []
  }
 ],
 "metadata": {
  "kernelspec": {
   "display_name": "Python 3 (ipykernel)",
   "language": "python",
   "name": "python3"
  },
  "language_info": {
   "codemirror_mode": {
    "name": "ipython",
    "version": 3
   },
   "file_extension": ".py",
   "mimetype": "text/x-python",
   "name": "python",
   "nbconvert_exporter": "python",
   "pygments_lexer": "ipython3",
   "version": "3.10.9"
  }
 },
 "nbformat": 4,
 "nbformat_minor": 5
}
